{
 "cells": [
  {
   "cell_type": "markdown",
   "metadata": {},
   "source": [
    "# Assignment 4: Evaluating Search Engines"
   ]
  },
  {
   "cell_type": "markdown",
   "metadata": {},
   "source": [
    "For this assignment, we leave aside the code we developed so far, and look into the more general issue of how to evaluate and compare different search engines. The ultimate test for any Information Retrieval system is how well it is able to satisfy the information needs of users."
   ]
  },
  {
   "cell_type": "markdown",
   "metadata": {},
   "source": [
    "# Cohen's Kappa"
   ]
  },
  {
   "cell_type": "markdown",
   "metadata": {},
   "source": [
    "Our evaluation will involve the calculation of [Cohen's Kappa](https://en.wikipedia.org/wiki/Cohen's_kappa) to quantify the degree to which two human assessors agree or disagree on whether results are considered relevant or not. To calculate Cohen's Kappa, we are going to use the [scikit-learn library](http://scikit-learn.org/stable/):"
   ]
  },
  {
   "cell_type": "code",
   "execution_count": 2,
   "metadata": {},
   "outputs": [
    {
     "name": "stdout",
     "output_type": "stream",
     "text": [
      "Requirement already satisfied: scikit-learn in c:\\users\\polinab\\appdata\\roaming\\python\\python37\\site-packages (0.21.3)\n",
      "Requirement already satisfied: joblib>=0.11 in c:\\users\\polinab\\appdata\\roaming\\python\\python37\\site-packages (from scikit-learn) (0.14.0)\n",
      "Requirement already satisfied: scipy>=0.17.0 in c:\\users\\polinab\\appdata\\roaming\\python\\python37\\site-packages (from scikit-learn) (1.3.3)\n",
      "Requirement already satisfied: numpy>=1.11.0 in c:\\users\\polinab\\appdata\\roaming\\python\\python37\\site-packages (from scikit-learn) (1.17.3)\n"
     ]
    }
   ],
   "source": [
    "! pip install --user scikit-learn"
   ]
  },
  {
   "cell_type": "code",
   "execution_count": 3,
   "metadata": {},
   "outputs": [],
   "source": [
    "from sklearn.metrics import cohen_kappa_score"
   ]
  },
  {
   "cell_type": "markdown",
   "metadata": {},
   "source": [
    "This library expects relevance assessments as lists of elements where `1` stands for _relevant_ and `0` stands for _not relevant_, for example like this:"
   ]
  },
  {
   "cell_type": "code",
   "execution_count": 4,
   "metadata": {},
   "outputs": [],
   "source": [
    "a1=[1,0,1,0,1,0,1,0]"
   ]
  },
  {
   "cell_type": "markdown",
   "metadata": {},
   "source": [
    "This list means that the first document was assessed to be relevant, the second to be not relevant, the third to be relevant etc.\n",
    "\n",
    "We need two assessments in order to calculate Cohen's Kappa, so let's make another exemplary list that only differs on the last element:"
   ]
  },
  {
   "cell_type": "code",
   "execution_count": 5,
   "metadata": {},
   "outputs": [],
   "source": [
    "a2=[1,0,1,0,1,0,1,1]"
   ]
  },
  {
   "cell_type": "markdown",
   "metadata": {},
   "source": [
    "We can now invoke the library as follows to calculate the agreement between the two:"
   ]
  },
  {
   "cell_type": "code",
   "execution_count": 6,
   "metadata": {},
   "outputs": [
    {
     "data": {
      "text/plain": [
       "0.75"
      ]
     },
     "execution_count": 6,
     "metadata": {},
     "output_type": "execute_result"
    }
   ],
   "source": [
    "cohen_kappa_score(a1, a2)"
   ]
  },
  {
   "cell_type": "markdown",
   "metadata": {},
   "source": [
    "This value represents high agreement. We can reach maximal agreement if the two assessments are identical:"
   ]
  },
  {
   "cell_type": "code",
   "execution_count": 7,
   "metadata": {},
   "outputs": [
    {
     "data": {
      "text/plain": [
       "1.0"
      ]
     },
     "execution_count": 7,
     "metadata": {},
     "output_type": "execute_result"
    }
   ],
   "source": [
    "cohen_kappa_score(a1, a1)"
   ]
  },
  {
   "cell_type": "markdown",
   "metadata": {},
   "source": [
    "Now, let's see what happens for a third assessment that differs on three positions with the first one (the three last positions):"
   ]
  },
  {
   "cell_type": "code",
   "execution_count": 8,
   "metadata": {},
   "outputs": [
    {
     "data": {
      "text/plain": [
       "0.25"
      ]
     },
     "execution_count": 8,
     "metadata": {},
     "output_type": "execute_result"
    }
   ],
   "source": [
    "a3=[1,0,1,0,1,1,0,1]\n",
    "\n",
    "cohen_kappa_score(a1, a3)"
   ]
  },
  {
   "cell_type": "markdown",
   "metadata": {},
   "source": [
    "We get a smaller but still positive value, because these two assessments still mostly agree. If we make a further example that differs on 6 of the 8 positions, we get the following result:"
   ]
  },
  {
   "cell_type": "code",
   "execution_count": 9,
   "metadata": {},
   "outputs": [
    {
     "data": {
      "text/plain": [
       "-0.5"
      ]
     },
     "execution_count": 9,
     "metadata": {},
     "output_type": "execute_result"
    }
   ],
   "source": [
    "a4=[1,0,0,1,0,1,0,1]\n",
    "\n",
    "cohen_kappa_score(a1, a4)"
   ]
  },
  {
   "cell_type": "markdown",
   "metadata": {},
   "source": [
    "The score is now negative, because the two differ on more positions than they agree. The agreement is in fact less than what you would expect to occur just by chance. We get the maximal disagreement if we define a fifth example that disagrees on all positions:"
   ]
  },
  {
   "cell_type": "code",
   "execution_count": 10,
   "metadata": {},
   "outputs": [
    {
     "data": {
      "text/plain": [
       "-1.0"
      ]
     },
     "execution_count": 10,
     "metadata": {},
     "output_type": "execute_result"
    }
   ],
   "source": [
    "a5=[0,1,0,1,0,1,0,1]\n",
    "\n",
    "cohen_kappa_score(a1, a5)"
   ]
  },
  {
   "cell_type": "markdown",
   "metadata": {},
   "source": [
    "Now that we understand how this function works, we will apply it below for our specific evaluation."
   ]
  },
  {
   "cell_type": "markdown",
   "metadata": {},
   "source": [
    "# Results and Assessments\n",
    "\n",
    "Next, we will define some auxilary code to deal with lists of URLs from search engines and associated relevance assessments. We will encode result lists like this:"
   ]
  },
  {
   "cell_type": "code",
   "execution_count": 13,
   "metadata": {},
   "outputs": [],
   "source": [
    "urls = [\n",
    "    'https://en.wikipedia.org/wiki/Information_retrieval/',  # 1st result\n",
    "    'http://www.dictionary.com/browse/information',          # 2nd result\n",
    "    'https://nlp.stanford.edu/IR-book/'                      # ...\n",
    "]"
   ]
  },
  {
   "cell_type": "markdown",
   "metadata": {},
   "source": [
    "And we represent corresponding assessments, as above, as lists of the same size containing relevance values:"
   ]
  },
  {
   "cell_type": "code",
   "execution_count": 14,
   "metadata": {},
   "outputs": [],
   "source": [
    "my_assessment = [1, 0, 1]\n",
    "another_assessment = [0, 0, 1]"
   ]
  },
  {
   "cell_type": "markdown",
   "metadata": {},
   "source": [
    "In order to nicely display URL lists, with or without related assessments, we define a function called `display_results`:"
   ]
  },
  {
   "cell_type": "code",
   "execution_count": 15,
   "metadata": {},
   "outputs": [
    {
     "data": {
      "text/html": [
       "<table><tr><th>#</th><th>Result URL</th><th>Assessment 1</th><th>Assessment 2</th></tr><tr><td>1</td><td><a href=\"https://en.wikipedia.org/wiki/Information_retrieval/\">https://en.wikipedia.org/wiki/Information_retrieval/</a></td><td><strong>Relevant</strong></td><td><em>Not relevant</em></td></tr><tr><td>2</td><td><a href=\"http://www.dictionary.com/browse/information\">http://www.dictionary.com/browse/information</a></td><td><em>Not relevant</em></td><td><em>Not relevant</em></td></tr><tr><td>3</td><td><a href=\"https://nlp.stanford.edu/IR-book/\">https://nlp.stanford.edu/IR-book/</a></td><td><strong>Relevant</strong></td><td><strong>Relevant</strong></td></tr></table>"
      ],
      "text/plain": [
       "<IPython.core.display.HTML object>"
      ]
     },
     "metadata": {},
     "output_type": "display_data"
    }
   ],
   "source": [
    "from IPython.display import display, HTML\n",
    "\n",
    "def display_results(urls, assessment1=None, assessment2=None):\n",
    "    lines = []\n",
    "    lines.append('<table>')\n",
    "    header = '<tr><th>#</th><th>Result URL</th>'\n",
    "    if (assessment1):\n",
    "        header += '<th>Assessment 1</th>'\n",
    "    if (assessment2):\n",
    "        header += '<th>Assessment 2</th>'\n",
    "    header += '</tr>'\n",
    "    lines.append(header)\n",
    "    i = 0\n",
    "    for url in urls:\n",
    "        show_url = url\n",
    "        if (len(url) > 80):\n",
    "            show_url = url[:75] + '...'\n",
    "        line = '<tr><td>{}</td><td><a href=\"{:s}\">{:s}</a></td>'.format(i+1, url, show_url)\n",
    "        if (assessment1):\n",
    "            if (assessment1[i] == 0):\n",
    "                line += '<td><em>Not relevant</em></td>'\n",
    "            else:\n",
    "                line += '<td><strong>Relevant</strong></td>'\n",
    "        if (assessment2):\n",
    "            if (assessment2[i] == 0):\n",
    "                line += '<td><em>Not relevant</em></td>'\n",
    "            else:\n",
    "                line += '<td><strong>Relevant</strong></td>'\n",
    "        line += '</tr>'\n",
    "        lines.append(line)\n",
    "        i = i+1\n",
    "    lines.append('</table>')\n",
    "    display( HTML(''.join(lines)) )\n",
    "    \n",
    "display_results(urls, my_assessment, another_assessment)"
   ]
  },
  {
   "cell_type": "markdown",
   "metadata": {},
   "source": [
    "We can use this function to display a list of URLs, optionally together with one or two assessment lists:"
   ]
  },
  {
   "cell_type": "code",
   "execution_count": 16,
   "metadata": {},
   "outputs": [
    {
     "name": "stdout",
     "output_type": "stream",
     "text": [
      "Just a list of URLs:\n"
     ]
    },
    {
     "data": {
      "text/html": [
       "<table><tr><th>#</th><th>Result URL</th></tr><tr><td>1</td><td><a href=\"https://en.wikipedia.org/wiki/Information_retrieval/\">https://en.wikipedia.org/wiki/Information_retrieval/</a></td></tr><tr><td>2</td><td><a href=\"http://www.dictionary.com/browse/information\">http://www.dictionary.com/browse/information</a></td></tr><tr><td>3</td><td><a href=\"https://nlp.stanford.edu/IR-book/\">https://nlp.stanford.edu/IR-book/</a></td></tr></table>"
      ],
      "text/plain": [
       "<IPython.core.display.HTML object>"
      ]
     },
     "metadata": {},
     "output_type": "display_data"
    },
    {
     "name": "stdout",
     "output_type": "stream",
     "text": [
      "With one assessment:\n"
     ]
    },
    {
     "data": {
      "text/html": [
       "<table><tr><th>#</th><th>Result URL</th><th>Assessment 1</th></tr><tr><td>1</td><td><a href=\"https://en.wikipedia.org/wiki/Information_retrieval/\">https://en.wikipedia.org/wiki/Information_retrieval/</a></td><td><strong>Relevant</strong></td></tr><tr><td>2</td><td><a href=\"http://www.dictionary.com/browse/information\">http://www.dictionary.com/browse/information</a></td><td><em>Not relevant</em></td></tr><tr><td>3</td><td><a href=\"https://nlp.stanford.edu/IR-book/\">https://nlp.stanford.edu/IR-book/</a></td><td><strong>Relevant</strong></td></tr></table>"
      ],
      "text/plain": [
       "<IPython.core.display.HTML object>"
      ]
     },
     "metadata": {},
     "output_type": "display_data"
    },
    {
     "name": "stdout",
     "output_type": "stream",
     "text": [
      "With two assessments:\n"
     ]
    },
    {
     "data": {
      "text/html": [
       "<table><tr><th>#</th><th>Result URL</th><th>Assessment 1</th><th>Assessment 2</th></tr><tr><td>1</td><td><a href=\"https://en.wikipedia.org/wiki/Information_retrieval/\">https://en.wikipedia.org/wiki/Information_retrieval/</a></td><td><strong>Relevant</strong></td><td><em>Not relevant</em></td></tr><tr><td>2</td><td><a href=\"http://www.dictionary.com/browse/information\">http://www.dictionary.com/browse/information</a></td><td><em>Not relevant</em></td><td><em>Not relevant</em></td></tr><tr><td>3</td><td><a href=\"https://nlp.stanford.edu/IR-book/\">https://nlp.stanford.edu/IR-book/</a></td><td><strong>Relevant</strong></td><td><strong>Relevant</strong></td></tr></table>"
      ],
      "text/plain": [
       "<IPython.core.display.HTML object>"
      ]
     },
     "metadata": {},
     "output_type": "display_data"
    }
   ],
   "source": [
    "print(\"Just a list of URLs:\")\n",
    "display_results(urls)\n",
    "\n",
    "print(\"With one assessment:\")\n",
    "display_results(urls, my_assessment)\n",
    "\n",
    "print(\"With two assessments:\")\n",
    "display_results(urls, my_assessment, another_assessment)"
   ]
  },
  {
   "cell_type": "markdown",
   "metadata": {},
   "source": [
    "Now we are ready to perform an actual evaluation, which will involve a substantial amount of manual work."
   ]
  },
  {
   "cell_type": "markdown",
   "metadata": {},
   "source": [
    "---"
   ]
  },
  {
   "cell_type": "markdown",
   "metadata": {},
   "source": [
    "# Tasks"
   ]
  },
  {
   "cell_type": "markdown",
   "metadata": {},
   "source": [
    "**Your name:** Polina Boneva"
   ]
  },
  {
   "cell_type": "markdown",
   "metadata": {},
   "source": [
    "### Task 1\n",
    "\n",
    "Think up and formulate an information need in the areas of Computer Science or the Life Sciences (medicine, biology, etc.) for which you think the answer can be found in scientific publications. On page 152 in the book an example of such an information need is shown: \"Information on whether drinking red wine is more effective at reducing your risk of heart attacks than white wine.\""
   ]
  },
  {
   "cell_type": "markdown",
   "metadata": {},
   "source": [
    "**Answer:** \"functional programming vs oop in technological security\""
   ]
  },
  {
   "cell_type": "markdown",
   "metadata": {},
   "source": [
    "Next, write down specifically what documents have to look like to satisfy your information need. For example if your information need is about finding an overview of different cancer types, you could state that a document would need to list at least ten types of cancer to satisfy your information need (among other criteria). Write this down as a protocol with rules and examples. For example, such a protocol could state that at least three out of five given criteria have to be fulfilled for a document to be considered relevant for the information need, and then specify the criteria. Or your protocol could have the form of a sequence of rules, where each rule lets you either label the document as relevant or not relevant, or proceed with the next rule. Such rules and criteria can, for example, be about the general topic of the paper, the concepts mentioned in it, the covered relations between concepts, the type of publication (research paper, overview paper, etc.), the number of references, the types of contained diagrams, and so on, depending on your specified information need."
   ]
  },
  {
   "cell_type": "markdown",
   "metadata": {},
   "source": [
    "**Answer:** \n",
    "### Protocol to determine the relevance of a document when looking up \"functional programming vs oop in technological security\"\n",
    "> The following requirements are a must-have for a document to be relevant:\n",
    "- assessment of at least 3 most important aspects of technological security. For example:\n",
    "    - quality control\n",
    "    - amount and types of attacks covered \n",
    "    - ease of taking over control by malicious users\n",
    "    - future relevance of currently established security principles\n",
    "- description of functional programming for security\n",
    "- description of object-oriented programming for security\n",
    "- comparison **data** between functional and oop. One of the following must be covered:\n",
    "    - relevant to security\n",
    "    - irrelevant to security, but further analysis describes relevance to security nevertheless\n",
    "- conclusion. One of the following must be covered:\n",
    "    - decision whether functional or oop prevails in security technology\n",
    "    - lack of decision, but both of functional and oop are overviewed\n",
    "\n",
    "---\n",
    "> The following requirements are recommended for a document to be relevant:\n",
    "- overview of at least 3 programming languages for security \n",
    "- assessment of at least 3 programming languages. Three or more of the following must be covered: \n",
    "    - description of its functional and oop principles and practices \n",
    "    - relevance for security\n",
    "    - work-arounds when encountering a problem in development\n",
    "    - ease of use (documentation, libraries, community)\n",
    "- at least 3 obstacles when developing technology for security\n",
    "- overview of at least 3 already developed security systems. Must have:\n",
    "    - functional programming or/and oop used\n",
    "    - future possibilities: ease of development, relevance to different types of attacks, ease of use;\n",
    "    \n",
    "\n",
    "\\* A **single** must-have requirement can be replaced for **two** recommended ones, if it is lacking.\n"
   ]
  },
  {
   "cell_type": "markdown",
   "metadata": {},
   "source": [
    "### Task 2\n",
    "\n",
    "Formulate a keyword query that represents the information need. For the example on page 152 in the book (see above), the example query \"wine AND red AND white AND heart AND attack AND effective\" is given. (You don't need to use connectors like \"AND\", but if you do, make first sure your chosen search engines below actually support them.)"
   ]
  },
  {
   "cell_type": "markdown",
   "metadata": {},
   "source": [
    "**Answer:** functional programming OR oop AND technological security"
   ]
  },
  {
   "cell_type": "markdown",
   "metadata": {},
   "source": [
    "Then submit your query to **two** of the following academic search engines:\n",
    "\n",
    "- [Google Scholar](https://scholar.google.com) (all science disciplines)\n",
    "- [Semantic Scholar](https://www.semanticscholar.org) (computer science and biomedicine)\n",
    "- [PubMed Search](https://www.ncbi.nlm.nih.gov/pubmed) (Life Sciences / biomedicine)\n",
    "\n",
    "The right choice of two from the three search engines depends on the topic of your information need. If your information need is in Computer Science, for example, you should use Google Scholar and Semantic Scholar.\n",
    "\n",
    "Extract a list of the top 10 URLs of the lists of each of the search engines\n",
    "given the query. Try to access the resulting publications. For the publications\n",
    "where that is not possible (because of dead links or because the publication is\n",
    "pay-walled even within the VU network), exclude them from the list and add more publications to the end of\n",
    "your list (that is, append results number 11, then 12, etc. to ensure you have\n",
    "two lists of 10 publications each). In order to deal with paywalls, you should try accessing the articles from the VU network, use\n",
    "[UBVU Off-Campus\n",
    "Access](http://www.ub.vu.nl.vu-nl.idm.oclc.org/nl/faciliteiten/toegang-buiten-de-campus/index.aspx), or try to find the respective documents from alternative sources (Google Scholar, for example, is very good at finding free PDFs of articles). If you get fewer than 10 results for one of the search engines, modify the keyword query above to make it more inclusive, and then redo the steps of this task.\n",
    "\n",
    "Store your two lists of URLs in the form of Python lists as introduced above. Then, use the `display_results` function to nicely display them."
   ]
  },
  {
   "cell_type": "code",
   "execution_count": 23,
   "metadata": {
    "scrolled": true
   },
   "outputs": [
    {
     "data": {
      "text/html": [
       "<table><tr><th>#</th><th>Result URL</th></tr><tr><td>1</td><td><a href=\"https://patents.google.com/patent/US5014312A/en\">https://patents.google.com/patent/US5014312A/en</a></td></tr><tr><td>2</td><td><a href=\"http://en.cnki.com.cn/Article_en/CJFDTotal-JSJK201103026.htm\">http://en.cnki.com.cn/Article_en/CJFDTotal-JSJK201103026.htm</a></td></tr><tr><td>3</td><td><a href=\"https://people.cs.kuleuven.be/~eddy.truyen/IMAGES/aosd_book.pdf\">https://people.cs.kuleuven.be/~eddy.truyen/IMAGES/aosd_book.pdf</a></td></tr><tr><td>4</td><td><a href=\"https://pdfs.semanticscholar.org/617b/fa500a4dfccb03b3024f819fc4c4d1fd49d0.pdf\">https://pdfs.semanticscholar.org/617b/fa500a4dfccb03b3024f819fc4c4d1fd49d0.pdf</a></td></tr><tr><td>5</td><td><a href=\"https://patents.google.com/patent/US6501369B1/en\">https://patents.google.com/patent/US6501369B1/en</a></td></tr><tr><td>6</td><td><a href=\"https://patents.google.com/patent/US6184779B1/en\">https://patents.google.com/patent/US6184779B1/en</a></td></tr><tr><td>7</td><td><a href=\"https://link.springer.com/chapter/10.1007/978-3-540-74974-5_51\">https://link.springer.com/chapter/10.1007/978-3-540-74974-5_51</a></td></tr><tr><td>8</td><td><a href=\"https://plg.uwaterloo.ca/~migod/846/papers/aop-intro.pdf\">https://plg.uwaterloo.ca/~migod/846/papers/aop-intro.pdf</a></td></tr><tr><td>9</td><td><a href=\"https://img.sauf.ca/pictures/2016-04-11/49263cddb34640e4db611c0effe2d3f3.pdf\">https://img.sauf.ca/pictures/2016-04-11/49263cddb34640e4db611c0effe2d3f3.pdf</a></td></tr><tr><td>10</td><td><a href=\"https://ieeexplore.ieee.org/abstract/document/6157179\">https://ieeexplore.ieee.org/abstract/document/6157179</a></td></tr></table>"
      ],
      "text/plain": [
       "<IPython.core.display.HTML object>"
      ]
     },
     "metadata": {},
     "output_type": "display_data"
    },
    {
     "data": {
      "text/html": [
       "<table><tr><th>#</th><th>Result URL</th></tr><tr><td>1</td><td><a href=\"https://www.semanticscholar.org/paper/Analyzing-the-functional-dynamics-of-technological-Bergek-Jacobsson/43963b810bf8903138e08f73e4ecbc441e1ab814\">https://www.semanticscholar.org/paper/Analyzing-the-functional-dynamics-of-...</a></td></tr><tr><td>2</td><td><a href=\"https://www.semanticscholar.org/paper/Endogenous-Technological-Change-Romer/e85ede931ca515b0fec1b650fb044310d0c62fe7\">https://www.semanticscholar.org/paper/Endogenous-Technological-Change-Romer...</a></td></tr><tr><td>3</td><td><a href=\"https://www.semanticscholar.org/paper/The-Technological-Society-Falk-Ellul/70c021d366002ef2ee895a4d72ba666f11c57b4b\">https://www.semanticscholar.org/paper/The-Technological-Society-Falk-Ellul/...</a></td></tr><tr><td>4</td><td><a href=\"https://www.semanticscholar.org/paper/Technological-Discontinuities-and-Organizational-Tushman-Anderson/c74bed3065d1aa4fa3102e48e5c6baf2cfaef77a\">https://www.semanticscholar.org/paper/Technological-Discontinuities-and-Org...</a></td></tr><tr><td>5</td><td><a href=\"https://www.semanticscholar.org/paper/Eliciting-security-requirements-with-misuse-cases-Sindre-Opdahl/5053e086955182440b2c3e6bd21a29240b1565ed\">https://www.semanticscholar.org/paper/Eliciting-security-requirements-with-...</a></td></tr><tr><td>6</td><td><a href=\"https://www.semanticscholar.org/paper/Technological-forecasting-for-decision-making-Martino/ce53faa89074b3c84c22757da5aca27d02621bf3\">https://www.semanticscholar.org/paper/Technological-forecasting-for-decisio...</a></td></tr><tr><td>7</td><td><a href=\"https://www.semanticscholar.org/paper/Information-technology-implementation-research%3A-a-Cooper-Zmud/11bebab9e623723fa510d89a7f743e211e0b286d\">https://www.semanticscholar.org/paper/Information-technology-implementation...</a></td></tr><tr><td>8</td><td><a href=\"https://www.semanticscholar.org/paper/Long-Run-Implications-of-Investment-Specific-Change-Greenwood-Hercowitz/59183f4b41e6377c5d68cad2402a8f97205388a5\">https://www.semanticscholar.org/paper/Long-Run-Implications-of-Investment-S...</a></td></tr><tr><td>9</td><td><a href=\"https://www.semanticscholar.org/paper/Physical-Layer-Security%3A-From-Information-Theory-to-Bloch-Barros/c1da30faf9b6ee56b70be1d20b934c6e130cac6e\">https://www.semanticscholar.org/paper/Physical-Layer-Security%3A-From-Infor...</a></td></tr><tr><td>10</td><td><a href=\"https://www.semanticscholar.org/paper/Splintering-Urbanism%3A-Networked-Infrastructures%2C-Warf/f74c40cbe6622023e6dbbad056ff29394a90d8e8\">https://www.semanticscholar.org/paper/Splintering-Urbanism%3A-Networked-Inf...</a></td></tr></table>"
      ],
      "text/plain": [
       "<IPython.core.display.HTML object>"
      ]
     },
     "metadata": {},
     "output_type": "display_data"
    }
   ],
   "source": [
    "# Create two of the lists below, depending on your chosen engines:\n",
    "\n",
    "urls_google = [\n",
    "    'https://patents.google.com/patent/US5014312A/en',\n",
    "    'http://en.cnki.com.cn/Article_en/CJFDTotal-JSJK201103026.htm',\n",
    "    'https://people.cs.kuleuven.be/~eddy.truyen/IMAGES/aosd_book.pdf',\n",
    "    'https://pdfs.semanticscholar.org/617b/fa500a4dfccb03b3024f819fc4c4d1fd49d0.pdf',\n",
    "    'https://patents.google.com/patent/US6501369B1/en',\n",
    "    'https://patents.google.com/patent/US6184779B1/en',\n",
    "    'https://link.springer.com/chapter/10.1007/978-3-540-74974-5_51',\n",
    "    'https://plg.uwaterloo.ca/~migod/846/papers/aop-intro.pdf',\n",
    "    'https://img.sauf.ca/pictures/2016-04-11/49263cddb34640e4db611c0effe2d3f3.pdf',\n",
    "    'https://ieeexplore.ieee.org/abstract/document/6157179',\n",
    "]\n",
    "urls_semantic = [\n",
    "    'https://www.semanticscholar.org/paper/Analyzing-the-functional-dynamics-of-technological-Bergek-Jacobsson/43963b810bf8903138e08f73e4ecbc441e1ab814',\n",
    "    'https://www.semanticscholar.org/paper/Endogenous-Technological-Change-Romer/e85ede931ca515b0fec1b650fb044310d0c62fe7',\n",
    "    'https://www.semanticscholar.org/paper/The-Technological-Society-Falk-Ellul/70c021d366002ef2ee895a4d72ba666f11c57b4b',\n",
    "    'https://www.semanticscholar.org/paper/Technological-Discontinuities-and-Organizational-Tushman-Anderson/c74bed3065d1aa4fa3102e48e5c6baf2cfaef77a',\n",
    "    'https://www.semanticscholar.org/paper/Eliciting-security-requirements-with-misuse-cases-Sindre-Opdahl/5053e086955182440b2c3e6bd21a29240b1565ed',\n",
    "    'https://www.semanticscholar.org/paper/Technological-forecasting-for-decision-making-Martino/ce53faa89074b3c84c22757da5aca27d02621bf3',\n",
    "    'https://www.semanticscholar.org/paper/Information-technology-implementation-research%3A-a-Cooper-Zmud/11bebab9e623723fa510d89a7f743e211e0b286d',\n",
    "    'https://www.semanticscholar.org/paper/Long-Run-Implications-of-Investment-Specific-Change-Greenwood-Hercowitz/59183f4b41e6377c5d68cad2402a8f97205388a5',\n",
    "    'https://www.semanticscholar.org/paper/Physical-Layer-Security%3A-From-Information-Theory-to-Bloch-Barros/c1da30faf9b6ee56b70be1d20b934c6e130cac6e',\n",
    "    'https://www.semanticscholar.org/paper/Splintering-Urbanism%3A-Networked-Infrastructures%2C-Warf/f74c40cbe6622023e6dbbad056ff29394a90d8e8',\n",
    "]\n",
    "\n",
    "\n",
    "display_results(urls_google)\n",
    "display_results(urls_semantic)"
   ]
  },
  {
   "cell_type": "markdown",
   "metadata": {},
   "source": [
    "### Task 3\n",
    "\n",
    "Then, find a fellow student who will **independently**\n",
    "assess the results as \"relevant\" or \"not relevant\" using the protocol that you\n",
    "have defined above, and also help (at least) one other student for his/her\n",
    "assessment. Write down their names here:"
   ]
  },
  {
   "cell_type": "markdown",
   "metadata": {},
   "source": [
    "**Name of the student who assesses my results:** Ioana Kirova\n",
    "\n",
    "**Name of the student who I help to assess his/her results:** Ioana Kirova"
   ]
  },
  {
   "cell_type": "markdown",
   "metadata": {},
   "source": [
    "Show to the other assessor everything you have written down above for Tasks 1 and 2 (and you might also want to give him/her the PDFs you got for these papers to simplify the process).\n",
    "\n",
    "You as assessors need to stick to the protocol you made in Task 1 and should not discuss with each other, especially when you doubt whether a result is relevant or not. Write down your assessments as lists of relevance values, as introduced above, and make sure they correctly map to the URLs by displaying them together with the `display_results` function.\n",
    "\n",
    "To avoid problems with extreme results, mark in each list at least one paper as 'relevant' and at least one paper as 'not relevant'. That is, if all papers seem relevant, mark the one that seems least relevant 'not relevant', and conversely, if none of the papers seem relevant, mark the one that seems a bit more relevant than the others as 'relevant'."
   ]
  },
  {
   "cell_type": "code",
   "execution_count": 24,
   "metadata": {},
   "outputs": [
    {
     "data": {
      "text/html": [
       "<table><tr><th>#</th><th>Result URL</th><th>Assessment 1</th><th>Assessment 2</th></tr><tr><td>1</td><td><a href=\"https://patents.google.com/patent/US5014312A/en\">https://patents.google.com/patent/US5014312A/en</a></td><td><em>Not relevant</em></td><td><em>Not relevant</em></td></tr><tr><td>2</td><td><a href=\"http://en.cnki.com.cn/Article_en/CJFDTotal-JSJK201103026.htm\">http://en.cnki.com.cn/Article_en/CJFDTotal-JSJK201103026.htm</a></td><td><em>Not relevant</em></td><td><em>Not relevant</em></td></tr><tr><td>3</td><td><a href=\"https://people.cs.kuleuven.be/~eddy.truyen/IMAGES/aosd_book.pdf\">https://people.cs.kuleuven.be/~eddy.truyen/IMAGES/aosd_book.pdf</a></td><td><strong>Relevant</strong></td><td><strong>Relevant</strong></td></tr><tr><td>4</td><td><a href=\"https://pdfs.semanticscholar.org/617b/fa500a4dfccb03b3024f819fc4c4d1fd49d0.pdf\">https://pdfs.semanticscholar.org/617b/fa500a4dfccb03b3024f819fc4c4d1fd49d0.pdf</a></td><td><strong>Relevant</strong></td><td><em>Not relevant</em></td></tr><tr><td>5</td><td><a href=\"https://patents.google.com/patent/US6501369B1/en\">https://patents.google.com/patent/US6501369B1/en</a></td><td><em>Not relevant</em></td><td><em>Not relevant</em></td></tr><tr><td>6</td><td><a href=\"https://patents.google.com/patent/US6184779B1/en\">https://patents.google.com/patent/US6184779B1/en</a></td><td><em>Not relevant</em></td><td><em>Not relevant</em></td></tr><tr><td>7</td><td><a href=\"https://link.springer.com/chapter/10.1007/978-3-540-74974-5_51\">https://link.springer.com/chapter/10.1007/978-3-540-74974-5_51</a></td><td><em>Not relevant</em></td><td><em>Not relevant</em></td></tr><tr><td>8</td><td><a href=\"https://plg.uwaterloo.ca/~migod/846/papers/aop-intro.pdf\">https://plg.uwaterloo.ca/~migod/846/papers/aop-intro.pdf</a></td><td><strong>Relevant</strong></td><td><em>Not relevant</em></td></tr><tr><td>9</td><td><a href=\"https://img.sauf.ca/pictures/2016-04-11/49263cddb34640e4db611c0effe2d3f3.pdf\">https://img.sauf.ca/pictures/2016-04-11/49263cddb34640e4db611c0effe2d3f3.pdf</a></td><td><em>Not relevant</em></td><td><em>Not relevant</em></td></tr><tr><td>10</td><td><a href=\"https://ieeexplore.ieee.org/abstract/document/6157179\">https://ieeexplore.ieee.org/abstract/document/6157179</a></td><td><em>Not relevant</em></td><td><em>Not relevant</em></td></tr></table>"
      ],
      "text/plain": [
       "<IPython.core.display.HTML object>"
      ]
     },
     "metadata": {},
     "output_type": "display_data"
    },
    {
     "data": {
      "text/html": [
       "<table><tr><th>#</th><th>Result URL</th><th>Assessment 1</th><th>Assessment 2</th></tr><tr><td>1</td><td><a href=\"https://www.semanticscholar.org/paper/Analyzing-the-functional-dynamics-of-technological-Bergek-Jacobsson/43963b810bf8903138e08f73e4ecbc441e1ab814\">https://www.semanticscholar.org/paper/Analyzing-the-functional-dynamics-of-...</a></td><td><em>Not relevant</em></td><td><em>Not relevant</em></td></tr><tr><td>2</td><td><a href=\"https://www.semanticscholar.org/paper/Endogenous-Technological-Change-Romer/e85ede931ca515b0fec1b650fb044310d0c62fe7\">https://www.semanticscholar.org/paper/Endogenous-Technological-Change-Romer...</a></td><td><em>Not relevant</em></td><td><em>Not relevant</em></td></tr><tr><td>3</td><td><a href=\"https://www.semanticscholar.org/paper/The-Technological-Society-Falk-Ellul/70c021d366002ef2ee895a4d72ba666f11c57b4b\">https://www.semanticscholar.org/paper/The-Technological-Society-Falk-Ellul/...</a></td><td><em>Not relevant</em></td><td><em>Not relevant</em></td></tr><tr><td>4</td><td><a href=\"https://www.semanticscholar.org/paper/Technological-Discontinuities-and-Organizational-Tushman-Anderson/c74bed3065d1aa4fa3102e48e5c6baf2cfaef77a\">https://www.semanticscholar.org/paper/Technological-Discontinuities-and-Org...</a></td><td><em>Not relevant</em></td><td><strong>Relevant</strong></td></tr><tr><td>5</td><td><a href=\"https://www.semanticscholar.org/paper/Eliciting-security-requirements-with-misuse-cases-Sindre-Opdahl/5053e086955182440b2c3e6bd21a29240b1565ed\">https://www.semanticscholar.org/paper/Eliciting-security-requirements-with-...</a></td><td><strong>Relevant</strong></td><td><em>Not relevant</em></td></tr><tr><td>6</td><td><a href=\"https://www.semanticscholar.org/paper/Technological-forecasting-for-decision-making-Martino/ce53faa89074b3c84c22757da5aca27d02621bf3\">https://www.semanticscholar.org/paper/Technological-forecasting-for-decisio...</a></td><td><em>Not relevant</em></td><td><em>Not relevant</em></td></tr><tr><td>7</td><td><a href=\"https://www.semanticscholar.org/paper/Information-technology-implementation-research%3A-a-Cooper-Zmud/11bebab9e623723fa510d89a7f743e211e0b286d\">https://www.semanticscholar.org/paper/Information-technology-implementation...</a></td><td><em>Not relevant</em></td><td><em>Not relevant</em></td></tr><tr><td>8</td><td><a href=\"https://www.semanticscholar.org/paper/Long-Run-Implications-of-Investment-Specific-Change-Greenwood-Hercowitz/59183f4b41e6377c5d68cad2402a8f97205388a5\">https://www.semanticscholar.org/paper/Long-Run-Implications-of-Investment-S...</a></td><td><em>Not relevant</em></td><td><em>Not relevant</em></td></tr><tr><td>9</td><td><a href=\"https://www.semanticscholar.org/paper/Physical-Layer-Security%3A-From-Information-Theory-to-Bloch-Barros/c1da30faf9b6ee56b70be1d20b934c6e130cac6e\">https://www.semanticscholar.org/paper/Physical-Layer-Security%3A-From-Infor...</a></td><td><strong>Relevant</strong></td><td><em>Not relevant</em></td></tr><tr><td>10</td><td><a href=\"https://www.semanticscholar.org/paper/Splintering-Urbanism%3A-Networked-Infrastructures%2C-Warf/f74c40cbe6622023e6dbbad056ff29394a90d8e8\">https://www.semanticscholar.org/paper/Splintering-Urbanism%3A-Networked-Inf...</a></td><td><em>Not relevant</em></td><td><em>Not relevant</em></td></tr></table>"
      ],
      "text/plain": [
       "<IPython.core.display.HTML object>"
      ]
     },
     "metadata": {},
     "output_type": "display_data"
    }
   ],
   "source": [
    "# 0 = not relevant; 1 = relevant\n",
    "\n",
    "assessment1_google = [0, 0, 1, 1, 0, 0, 0, 1, 0, 0]\n",
    "assessment1_semantic = [0, 0, 0, 0, 1, 0, 0, 0, 1, 0]\n",
    "\n",
    "assessment2_google = [0, 0, 1, 0, 0, 0, 0, 0, 0, 0]\n",
    "assessment2_semantic = [0, 0, 0, 1, 0, 0, 0, 0, 0, 0]\n",
    "\n",
    "display_results(urls_google, assessment1_google, assessment2_google)\n",
    "display_results(urls_semantic, assessment1_semantic, assessment2_semantic)"
   ]
  },
  {
   "cell_type": "markdown",
   "metadata": {},
   "source": [
    "### Task 4\n",
    "\n",
    "Compute Cohen's kappa to quantify how much the two assessors agreed. Use the function `cohen_kappa_score` demonstrated above to calculate two times the inter-annotator agreement (once for each of the two search engines), and print out the results."
   ]
  },
  {
   "cell_type": "code",
   "execution_count": 22,
   "metadata": {
    "scrolled": true
   },
   "outputs": [
    {
     "name": "stdout",
     "output_type": "stream",
     "text": [
      "Kappa for Google Scholar: 0.41176470588235303\n",
      "Kappa for Semantic Scholar: -0.15384615384615374\n"
     ]
    }
   ],
   "source": [
    "kappa_google = cohen_kappa_score(assessment1_google, assessment2_google)\n",
    "kappa_semantic = cohen_kappa_score(assessment1_semantic, assessment2_semantic)\n",
    "\n",
    "print(\"Kappa for Google Scholar:\", kappa_google)\n",
    "print(\"Kappa for Semantic Scholar:\", kappa_semantic)\n"
   ]
  },
  {
   "cell_type": "markdown",
   "metadata": {},
   "source": [
    "Explain whether the agreement can be considered high or not, based on the interpretation table on [this Wikipedia page](https://en.wikipedia.org/wiki/Fleiss'_kappa#Interpretation) (this Wikipedia page is about a different type of kappa but the interpretation table can also be used for Cohen's kappa)."
   ]
  },
  {
   "cell_type": "markdown",
   "metadata": {},
   "source": [
    "**Answer:** According to the table we are in a moderate agreement on the articles suggested by Google Scholar. However, we are in poor agreement on the articles offered by Semantic Scholar. \n",
    "The first moderate agreement stems mainly from the fact that most articles were simply irrelevant to my search query. Thus, we have both seen the same irrelevance, following the criteria I created to rank the pages relevant or not. The criteria in the protocol above are quite specific, thus it is difficult to place an article as relevant because most of them do not mention functional or object-oriented programming at all (some do not even mention security).\n",
    "However, the two of us have described three different documents as relevant from the Semantic Scholar. This means that the criteria in the protocol is somewhat confusing or that the documents were overall too irrelevant, thus we have separately tried to find relevant documents by giving them the benefit of the doubt: providing them with more qualities than they have. The criteria in the protocol seems hard to match, which means there hasn't been much substantial research on the types of programming used in security. "
   ]
  },
  {
   "cell_type": "markdown",
   "metadata": {},
   "source": [
    "### Task 5\n",
    "\n",
    "Define a function called `precision_at_n` that calculates Precision@n as described in the lecture slides, which takes as input an assessment list and a value for _n_ and returns the respective Precision@n value. Run this function to calculate Precision@10 (that is, n=10) on all four assessments (two assessors and two search engines)."
   ]
  },
  {
   "cell_type": "code",
   "execution_count": 27,
   "metadata": {},
   "outputs": [
    {
     "name": "stdout",
     "output_type": "stream",
     "text": [
      "0.3\n",
      "0.1\n",
      "0.2\n",
      "0.1\n"
     ]
    }
   ],
   "source": [
    "def precision_at_n(assessment_list, n):\n",
    "   return print(sum(assessment_list[:n]) / n)\n",
    "\n",
    "precision_at_n(assessment1_google, 10)\n",
    "precision_at_n(assessment2_google, 10)\n",
    "\n",
    "precision_at_n(assessment1_semantic, 10)\n",
    "precision_at_n(assessment2_semantic, 10)"
   ]
  },
  {
   "cell_type": "markdown",
   "metadata": {},
   "source": [
    "Explain what these specific Precision@10 results tell us (or don't tell us) about the quality of the two search engines for your particular information need. You can also refer to the results of Task 4 if necessary."
   ]
  },
  {
   "cell_type": "markdown",
   "metadata": {},
   "source": [
    "**Answer:** The results of Precision@10 tell us everything about the quality of any search engine. Of course, it is subjective to judge the relevance of a document from our own perspective, but this is okay because we are using the search engines for us, not for an objective creature. \n",
    "Both Precision@10's of Ioana are 0.1 which means she did not see almost no value in the results by either search engine. The true positives of hers are only two for both Google and Semantic Scholar, where the false positives are eighteen in total. Each search engine provided 10 best results, but each was 90% wrong, according to Ioana.\n",
    "However, I saw a bit more value in the results by Google: 0.3 out of 1. This means three of the ten positives were true and seven were false, according to my perspective. Semantic scores even worse with 0.2. Only two of the ten articles seemed relevant to me, even if they were all deemed relevant according to the search engine. \n",
    "Thus, for the particular information that I, as a beginner in security systems overall, needed on \"functional programming OR oop AND technological security\" both engines do not hold much quality. Google Scholar is slightly better. \n"
   ]
  },
  {
   "cell_type": "markdown",
   "metadata": {},
   "source": [
    "# Submission"
   ]
  },
  {
   "cell_type": "markdown",
   "metadata": {},
   "source": [
    "Submit the answers to the assignment via Canvas as a modified version of this Notebook file (file with `.ipynb` extension) that includes your code and your answers.\n",
    "\n",
    "Before submitting, restart the kernel and re-run the complete code (**Kernel > Restart & Run All**), and then check whether your assignment code still works as expected.\n",
    "\n",
    "Don't forget to add your name, and remember that the assignments have to be done individually and group submissions are **not allowed**."
   ]
  }
 ],
 "metadata": {
  "kernelspec": {
   "display_name": "Python 3",
   "language": "python",
   "name": "python3"
  },
  "language_info": {
   "codemirror_mode": {
    "name": "ipython",
    "version": 3
   },
   "file_extension": ".py",
   "mimetype": "text/x-python",
   "name": "python",
   "nbconvert_exporter": "python",
   "pygments_lexer": "ipython3",
   "version": "3.7.4"
  }
 },
 "nbformat": 4,
 "nbformat_minor": 1
}
